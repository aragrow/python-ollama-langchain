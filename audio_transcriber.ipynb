{
 "cells": [
  {
   "cell_type": "raw",
   "id": "b04a04d4-4ce1-4836-a5dd-a4b2d2dfe830",
   "metadata": {},
   "source": [
    "%run 'path/to/other_notebook.ipynb'  To include another jupyter notebook"
   ]
  },
  {
   "cell_type": "code",
   "execution_count": null,
   "id": "2343b95d-e42e-4038-ae7d-0502218b29dd",
   "metadata": {},
   "outputs": [],
   "source": [
    "import os\n",
    "import speech_recognition as sr\n",
    "from pydub import AudioSegment"
   ]
  },
  {
   "cell_type": "code",
   "execution_count": null,
   "id": "2ec6471f-0860-4563-ac5c-60d9f24f5ab4",
   "metadata": {},
   "outputs": [],
   "source": [
    "def transcribe_audio(file_path):\n",
    "    \"\"\"Transcribe audio to text.\"\"\"\n",
    "    recognizer = sr.Recognizer()\n",
    "\n",
    "    # Load audio file\n",
    "    audio = None\n",
    "    if file_path.endswith(\".mp3\"):\n",
    "        # If the audio file is mp3, convert it to WAV first\n",
    "        audio = AudioSegment.from_mp3(file_path)\n",
    "        audio_path = file_path.replace(\".mp3\", \".wav\")\n",
    "        audio.export(audio_path, format=\"wav\")\n",
    "        file_path = audio_path  # Update the file_path to the new wav file\n",
    "\n",
    "    # Load the audio file into the recognizer\n",
    "    with sr.AudioFile(file_path) as source:\n",
    "        audio_data = recognizer.record(source)\n",
    "\n",
    "    try:\n",
    "        # Recognize speech using Google Web Speech API\n",
    "        print(f\"Transcribing {file_path}...\")\n",
    "        text = recognizer.recognize_google(audio_data)\n",
    "        return text\n",
    "    except sr.UnknownValueError:\n",
    "        return \"Audio Unrecognizable\"\n",
    "    except sr.RequestError as e:\n",
    "        return f\"Could not request results; {e}\"\n",
    "\n",
    "def transcribe_audio_files_from_directory(directory_path):\n",
    "    \"\"\"Read all audio files in the directory and return their transcripts.\"\"\"\n",
    "    transcripts = {}\n",
    "    \n",
    "    # Walk through the directory and find audio files\n",
    "    for filename in os.listdir(directory_path):\n",
    "        file_path = os.path.join(directory_path, filename)\n",
    "\n",
    "        # Check if it's an audio file (can add more formats if needed)\n",
    "        if filename.endswith(('.wav', '.mp3')):\n",
    "            transcript = transcribe_audio(file_path)\n",
    "            transcripts[filename] = transcript\n",
    "\n",
    "    return transcripts\n",
    "\n",
    "if __name__ == \"__main__\":\n",
    "    # Path to your audio files\n",
    "    audio_directory = './data/audio'\n",
    "    \n",
    "    if os.path.exists(audio_directory):\n",
    "        # Transcribe all audio files in the directory\n",
    "        transcripts = transcribe_audio_files_from_directory(audio_directory)\n",
    "        \n",
    "        # Print or save the transcripts\n",
    "        for filename, transcript in transcripts.items():\n",
    "            print(f\"Transcript for {filename}:\\n{transcript}\\n\")\n",
    "    else:\n",
    "        print(f\"The directory {audio_directory} does not exist.\")\n"
   ]
  }
 ],
 "metadata": {
  "kernelspec": {
   "display_name": "Python 3 (ipykernel)",
   "language": "python",
   "name": "python3"
  },
  "language_info": {
   "codemirror_mode": {
    "name": "ipython",
    "version": 3
   },
   "file_extension": ".py",
   "mimetype": "text/x-python",
   "name": "python",
   "nbconvert_exporter": "python",
   "pygments_lexer": "ipython3",
   "version": "3.13.1"
  }
 },
 "nbformat": 4,
 "nbformat_minor": 5
}
